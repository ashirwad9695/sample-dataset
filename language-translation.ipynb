{
 "cells": [
  {
   "cell_type": "code",
   "execution_count": null,
   "metadata": {
    "execution": {
     "iopub.execute_input": "2025-08-28T09:28:42.963531Z",
     "iopub.status.busy": "2025-08-28T09:28:42.963245Z",
     "iopub.status.idle": "2025-08-28T09:28:46.893089Z",
     "shell.execute_reply": "2025-08-28T09:28:46.892108Z",
     "shell.execute_reply.started": "2025-08-28T09:28:42.963500Z"
    },
    "trusted": true
   },
   "outputs": [
    {
     "name": "stdout",
     "output_type": "stream",
     "text": [
      "Requirement already satisfied: indic-nlp-library in /usr/local/lib/python3.11/dist-packages (0.92)\n",
      "Requirement already satisfied: sphinx-argparse in /usr/local/lib/python3.11/dist-packages (from indic-nlp-library) (0.5.2)\n",
      "Requirement already satisfied: sphinx-rtd-theme in /usr/local/lib/python3.11/dist-packages (from indic-nlp-library) (0.2.4)\n",
      "Requirement already satisfied: morfessor in /usr/local/lib/python3.11/dist-packages (from indic-nlp-library) (2.0.6)\n",
      "Requirement already satisfied: pandas in /usr/local/lib/python3.11/dist-packages (from indic-nlp-library) (2.2.3)\n",
      "Requirement already satisfied: numpy in /usr/local/lib/python3.11/dist-packages (from indic-nlp-library) (1.26.4)\n",
      "Requirement already satisfied: mkl_fft in /usr/local/lib/python3.11/dist-packages (from numpy->indic-nlp-library) (1.3.8)\n",
      "Requirement already satisfied: mkl_random in /usr/local/lib/python3.11/dist-packages (from numpy->indic-nlp-library) (1.2.4)\n",
      "Requirement already satisfied: mkl_umath in /usr/local/lib/python3.11/dist-packages (from numpy->indic-nlp-library) (0.1.1)\n",
      "Requirement already satisfied: mkl in /usr/local/lib/python3.11/dist-packages (from numpy->indic-nlp-library) (2025.2.0)\n",
      "Requirement already satisfied: tbb4py in /usr/local/lib/python3.11/dist-packages (from numpy->indic-nlp-library) (2022.2.0)\n",
      "Requirement already satisfied: mkl-service in /usr/local/lib/python3.11/dist-packages (from numpy->indic-nlp-library) (2.4.1)\n",
      "Requirement already satisfied: python-dateutil>=2.8.2 in /usr/local/lib/python3.11/dist-packages (from pandas->indic-nlp-library) (2.9.0.post0)\n",
      "Requirement already satisfied: pytz>=2020.1 in /usr/local/lib/python3.11/dist-packages (from pandas->indic-nlp-library) (2025.2)\n",
      "Requirement already satisfied: tzdata>=2022.7 in /usr/local/lib/python3.11/dist-packages (from pandas->indic-nlp-library) (2025.2)\n",
      "Requirement already satisfied: sphinx>=5.1.0 in /usr/local/lib/python3.11/dist-packages (from sphinx-argparse->indic-nlp-library) (8.2.3)\n",
      "Requirement already satisfied: docutils>=0.19 in /usr/local/lib/python3.11/dist-packages (from sphinx-argparse->indic-nlp-library) (0.21.2)\n",
      "Requirement already satisfied: six>=1.5 in /usr/local/lib/python3.11/dist-packages (from python-dateutil>=2.8.2->pandas->indic-nlp-library) (1.17.0)\n",
      "Requirement already satisfied: sphinxcontrib-applehelp>=1.0.7 in /usr/local/lib/python3.11/dist-packages (from sphinx>=5.1.0->sphinx-argparse->indic-nlp-library) (2.0.0)\n",
      "Requirement already satisfied: sphinxcontrib-devhelp>=1.0.6 in /usr/local/lib/python3.11/dist-packages (from sphinx>=5.1.0->sphinx-argparse->indic-nlp-library) (2.0.0)\n",
      "Requirement already satisfied: sphinxcontrib-htmlhelp>=2.0.6 in /usr/local/lib/python3.11/dist-packages (from sphinx>=5.1.0->sphinx-argparse->indic-nlp-library) (2.1.0)\n",
      "Requirement already satisfied: sphinxcontrib-jsmath>=1.0.1 in /usr/local/lib/python3.11/dist-packages (from sphinx>=5.1.0->sphinx-argparse->indic-nlp-library) (1.0.1)\n",
      "Requirement already satisfied: sphinxcontrib-qthelp>=1.0.6 in /usr/local/lib/python3.11/dist-packages (from sphinx>=5.1.0->sphinx-argparse->indic-nlp-library) (2.0.0)\n",
      "Requirement already satisfied: sphinxcontrib-serializinghtml>=1.1.9 in /usr/local/lib/python3.11/dist-packages (from sphinx>=5.1.0->sphinx-argparse->indic-nlp-library) (2.0.0)\n",
      "Requirement already satisfied: Jinja2>=3.1 in /usr/local/lib/python3.11/dist-packages (from sphinx>=5.1.0->sphinx-argparse->indic-nlp-library) (3.1.6)\n",
      "Requirement already satisfied: Pygments>=2.17 in /usr/local/lib/python3.11/dist-packages (from sphinx>=5.1.0->sphinx-argparse->indic-nlp-library) (2.19.2)\n",
      "Requirement already satisfied: snowballstemmer>=2.2 in /usr/local/lib/python3.11/dist-packages (from sphinx>=5.1.0->sphinx-argparse->indic-nlp-library) (3.0.1)\n",
      "Requirement already satisfied: babel>=2.13 in /usr/local/lib/python3.11/dist-packages (from sphinx>=5.1.0->sphinx-argparse->indic-nlp-library) (2.17.0)\n",
      "Requirement already satisfied: alabaster>=0.7.14 in /usr/local/lib/python3.11/dist-packages (from sphinx>=5.1.0->sphinx-argparse->indic-nlp-library) (1.0.0)\n",
      "Requirement already satisfied: imagesize>=1.3 in /usr/local/lib/python3.11/dist-packages (from sphinx>=5.1.0->sphinx-argparse->indic-nlp-library) (1.4.1)\n",
      "Requirement already satisfied: requests>=2.30.0 in /usr/local/lib/python3.11/dist-packages (from sphinx>=5.1.0->sphinx-argparse->indic-nlp-library) (2.32.4)\n",
      "Requirement already satisfied: roman-numerals-py>=1.0.0 in /usr/local/lib/python3.11/dist-packages (from sphinx>=5.1.0->sphinx-argparse->indic-nlp-library) (3.1.0)\n",
      "Requirement already satisfied: packaging>=23.0 in /usr/local/lib/python3.11/dist-packages (from sphinx>=5.1.0->sphinx-argparse->indic-nlp-library) (25.0)\n",
      "Requirement already satisfied: intel-openmp<2026,>=2024 in /usr/local/lib/python3.11/dist-packages (from mkl->numpy->indic-nlp-library) (2024.2.0)\n",
      "Requirement already satisfied: tbb==2022.* in /usr/local/lib/python3.11/dist-packages (from mkl->numpy->indic-nlp-library) (2022.2.0)\n",
      "Requirement already satisfied: tcmlib==1.* in /usr/local/lib/python3.11/dist-packages (from tbb==2022.*->mkl->numpy->indic-nlp-library) (1.4.0)\n",
      "Requirement already satisfied: intel-cmplr-lib-rt in /usr/local/lib/python3.11/dist-packages (from mkl_umath->numpy->indic-nlp-library) (2024.2.0)\n",
      "Requirement already satisfied: intel-cmplr-lib-ur==2024.2.0 in /usr/local/lib/python3.11/dist-packages (from intel-openmp<2026,>=2024->mkl->numpy->indic-nlp-library) (2024.2.0)\n",
      "Requirement already satisfied: MarkupSafe>=2.0 in /usr/local/lib/python3.11/dist-packages (from Jinja2>=3.1->sphinx>=5.1.0->sphinx-argparse->indic-nlp-library) (3.0.2)\n",
      "Requirement already satisfied: charset_normalizer<4,>=2 in /usr/local/lib/python3.11/dist-packages (from requests>=2.30.0->sphinx>=5.1.0->sphinx-argparse->indic-nlp-library) (3.4.2)\n",
      "Requirement already satisfied: idna<4,>=2.5 in /usr/local/lib/python3.11/dist-packages (from requests>=2.30.0->sphinx>=5.1.0->sphinx-argparse->indic-nlp-library) (3.10)\n",
      "Requirement already satisfied: urllib3<3,>=1.21.1 in /usr/local/lib/python3.11/dist-packages (from requests>=2.30.0->sphinx>=5.1.0->sphinx-argparse->indic-nlp-library) (2.5.0)\n",
      "Requirement already satisfied: certifi>=2017.4.17 in /usr/local/lib/python3.11/dist-packages (from requests>=2.30.0->sphinx>=5.1.0->sphinx-argparse->indic-nlp-library) (2025.6.15)\n"
     ]
    }
   ],
   "source": [
    "!pip3 install indic-nlp-library"
   ]
  },
  {
   "cell_type": "code",
   "execution_count": null,
   "metadata": {
    "_cell_guid": "b1076dfc-b9ad-4769-8c92-a6c4dae69d19",
    "_uuid": "8f2839f25d086af736a60e9eeb907d3b93b6e0e5",
    "execution": {
     "iopub.execute_input": "2025-08-28T09:28:48.653254Z",
     "iopub.status.busy": "2025-08-28T09:28:48.652709Z",
     "iopub.status.idle": "2025-08-28T09:28:53.399832Z",
     "shell.execute_reply": "2025-08-28T09:28:53.399093Z",
     "shell.execute_reply.started": "2025-08-28T09:28:48.653219Z"
    },
    "trusted": true
   },
   "outputs": [],
   "source": [
    "import pandas as pd\n",
    "import numpy as np\n",
    "from transformers import AutoTokenizer\n",
    "import torch\n",
    "from indicnlp.tokenize import indic_tokenize"
   ]
  },
  {
   "cell_type": "code",
   "execution_count": null,
   "metadata": {
    "execution": {
     "iopub.execute_input": "2025-08-28T09:28:53.401694Z",
     "iopub.status.busy": "2025-08-28T09:28:53.401269Z",
     "iopub.status.idle": "2025-08-28T09:28:53.467534Z",
     "shell.execute_reply": "2025-08-28T09:28:53.466756Z",
     "shell.execute_reply.started": "2025-08-28T09:28:53.401664Z"
    },
    "trusted": true
   },
   "outputs": [],
   "source": [
    "data = pd.read_csv(\"/kaggle/input/english-hindi-dataset/Sentence pairs in English-Hindi - 2025-02-11.tsv\",\n",
    "                  sep=\"\\t\",header=None,names=[\"SrcSentID\",\"SrcSent\",\"DstSentID\",\"DstSent\"])"
   ]
  },
  {
   "cell_type": "code",
   "execution_count": null,
   "metadata": {
    "execution": {
     "iopub.execute_input": "2025-08-28T09:28:53.468584Z",
     "iopub.status.busy": "2025-08-28T09:28:53.468335Z",
     "iopub.status.idle": "2025-08-28T09:28:53.482100Z",
     "shell.execute_reply": "2025-08-28T09:28:53.480904Z",
     "shell.execute_reply.started": "2025-08-28T09:28:53.468563Z"
    },
    "trusted": true
   },
   "outputs": [
    {
     "data": {
      "text/html": [
       "<div>\n",
       "<style scoped>\n",
       "    .dataframe tbody tr th:only-of-type {\n",
       "        vertical-align: middle;\n",
       "    }\n",
       "\n",
       "    .dataframe tbody tr th {\n",
       "        vertical-align: top;\n",
       "    }\n",
       "\n",
       "    .dataframe thead th {\n",
       "        text-align: right;\n",
       "    }\n",
       "</style>\n",
       "<table border=\"1\" class=\"dataframe\">\n",
       "  <thead>\n",
       "    <tr style=\"text-align: right;\">\n",
       "      <th></th>\n",
       "      <th>SrcSentID</th>\n",
       "      <th>SrcSent</th>\n",
       "      <th>DstSentID</th>\n",
       "      <th>DstSent</th>\n",
       "    </tr>\n",
       "  </thead>\n",
       "  <tbody>\n",
       "    <tr>\n",
       "      <th>0</th>\n",
       "      <td>1282</td>\n",
       "      <td>Muiriel is 20 now.</td>\n",
       "      <td>485968</td>\n",
       "      <td>म्यूरियल अब बीस साल की हो गई है।</td>\n",
       "    </tr>\n",
       "    <tr>\n",
       "      <th>1</th>\n",
       "      <td>1282</td>\n",
       "      <td>Muiriel is 20 now.</td>\n",
       "      <td>2060319</td>\n",
       "      <td>म्यूरियल अब बीस साल की है।</td>\n",
       "    </tr>\n",
       "    <tr>\n",
       "      <th>2</th>\n",
       "      <td>1294</td>\n",
       "      <td>Education in this world disappoints me.</td>\n",
       "      <td>485564</td>\n",
       "      <td>मैं इस दुनिया में शिक्षा पर बहुत निराश हूँ।</td>\n",
       "    </tr>\n",
       "    <tr>\n",
       "      <th>3</th>\n",
       "      <td>1302</td>\n",
       "      <td>That won't happen.</td>\n",
       "      <td>2060320</td>\n",
       "      <td>वैसा नहीं होगा।</td>\n",
       "    </tr>\n",
       "    <tr>\n",
       "      <th>4</th>\n",
       "      <td>1308</td>\n",
       "      <td>I miss you.</td>\n",
       "      <td>2060321</td>\n",
       "      <td>मुझें तुम्हारी याद आ रही है।</td>\n",
       "    </tr>\n",
       "  </tbody>\n",
       "</table>\n",
       "</div>"
      ],
      "text/plain": [
       "   SrcSentID                                  SrcSent  DstSentID  \\\n",
       "0       1282                       Muiriel is 20 now.     485968   \n",
       "1       1282                       Muiriel is 20 now.    2060319   \n",
       "2       1294  Education in this world disappoints me.     485564   \n",
       "3       1302                       That won't happen.    2060320   \n",
       "4       1308                              I miss you.    2060321   \n",
       "\n",
       "                                       DstSent  \n",
       "0             म्यूरियल अब बीस साल की हो गई है।  \n",
       "1                   म्यूरियल अब बीस साल की है।  \n",
       "2  मैं इस दुनिया में शिक्षा पर बहुत निराश हूँ।  \n",
       "3                              वैसा नहीं होगा।  \n",
       "4                 मुझें तुम्हारी याद आ रही है।  "
      ]
     },
     "execution_count": 4,
     "metadata": {},
     "output_type": "execute_result"
    }
   ],
   "source": [
    "data.head()"
   ]
  },
  {
   "cell_type": "code",
   "execution_count": null,
   "metadata": {
    "execution": {
     "iopub.execute_input": "2025-08-28T09:28:53.484019Z",
     "iopub.status.busy": "2025-08-28T09:28:53.483715Z",
     "iopub.status.idle": "2025-08-28T09:28:53.492843Z",
     "shell.execute_reply": "2025-08-28T09:28:53.492200Z",
     "shell.execute_reply.started": "2025-08-28T09:28:53.483970Z"
    },
    "trusted": true
   },
   "outputs": [],
   "source": [
    "data.drop(labels=[data.columns[0],data.columns[2]],axis=1,inplace=True)"
   ]
  },
  {
   "cell_type": "code",
   "execution_count": null,
   "metadata": {
    "execution": {
     "iopub.execute_input": "2025-08-28T09:28:58.670232Z",
     "iopub.status.busy": "2025-08-28T09:28:58.669622Z",
     "iopub.status.idle": "2025-08-28T09:28:58.678753Z",
     "shell.execute_reply": "2025-08-28T09:28:58.677819Z",
     "shell.execute_reply.started": "2025-08-28T09:28:58.670202Z"
    },
    "trusted": true
   },
   "outputs": [
    {
     "data": {
      "text/html": [
       "<div>\n",
       "<style scoped>\n",
       "    .dataframe tbody tr th:only-of-type {\n",
       "        vertical-align: middle;\n",
       "    }\n",
       "\n",
       "    .dataframe tbody tr th {\n",
       "        vertical-align: top;\n",
       "    }\n",
       "\n",
       "    .dataframe thead th {\n",
       "        text-align: right;\n",
       "    }\n",
       "</style>\n",
       "<table border=\"1\" class=\"dataframe\">\n",
       "  <thead>\n",
       "    <tr style=\"text-align: right;\">\n",
       "      <th></th>\n",
       "      <th>SrcSent</th>\n",
       "      <th>DstSent</th>\n",
       "    </tr>\n",
       "  </thead>\n",
       "  <tbody>\n",
       "    <tr>\n",
       "      <th>0</th>\n",
       "      <td>Muiriel is 20 now.</td>\n",
       "      <td>म्यूरियल अब बीस साल की हो गई है।</td>\n",
       "    </tr>\n",
       "    <tr>\n",
       "      <th>1</th>\n",
       "      <td>Muiriel is 20 now.</td>\n",
       "      <td>म्यूरियल अब बीस साल की है।</td>\n",
       "    </tr>\n",
       "    <tr>\n",
       "      <th>2</th>\n",
       "      <td>Education in this world disappoints me.</td>\n",
       "      <td>मैं इस दुनिया में शिक्षा पर बहुत निराश हूँ।</td>\n",
       "    </tr>\n",
       "    <tr>\n",
       "      <th>3</th>\n",
       "      <td>That won't happen.</td>\n",
       "      <td>वैसा नहीं होगा।</td>\n",
       "    </tr>\n",
       "    <tr>\n",
       "      <th>4</th>\n",
       "      <td>I miss you.</td>\n",
       "      <td>मुझें तुम्हारी याद आ रही है।</td>\n",
       "    </tr>\n",
       "  </tbody>\n",
       "</table>\n",
       "</div>"
      ],
      "text/plain": [
       "                                   SrcSent  \\\n",
       "0                       Muiriel is 20 now.   \n",
       "1                       Muiriel is 20 now.   \n",
       "2  Education in this world disappoints me.   \n",
       "3                       That won't happen.   \n",
       "4                              I miss you.   \n",
       "\n",
       "                                       DstSent  \n",
       "0             म्यूरियल अब बीस साल की हो गई है।  \n",
       "1                   म्यूरियल अब बीस साल की है।  \n",
       "2  मैं इस दुनिया में शिक्षा पर बहुत निराश हूँ।  \n",
       "3                              वैसा नहीं होगा।  \n",
       "4                 मुझें तुम्हारी याद आ रही है।  "
      ]
     },
     "execution_count": 6,
     "metadata": {},
     "output_type": "execute_result"
    }
   ],
   "source": [
    "data.head()"
   ]
  },
  {
   "cell_type": "code",
   "execution_count": null,
   "metadata": {
    "execution": {
     "iopub.execute_input": "2025-08-28T09:29:00.308770Z",
     "iopub.status.busy": "2025-08-28T09:29:00.308164Z",
     "iopub.status.idle": "2025-08-28T09:29:00.945816Z",
     "shell.execute_reply": "2025-08-28T09:29:00.945095Z",
     "shell.execute_reply.started": "2025-08-28T09:29:00.308742Z"
    },
    "trusted": true
   },
   "outputs": [],
   "source": [
    "src_sent_tokenizer = AutoTokenizer.from_pretrained(\"google-T5/T5-base\")"
   ]
  },
  {
   "cell_type": "code",
   "execution_count": null,
   "metadata": {
    "execution": {
     "iopub.execute_input": "2025-08-28T09:29:02.415521Z",
     "iopub.status.busy": "2025-08-28T09:29:02.415192Z",
     "iopub.status.idle": "2025-08-28T09:29:03.470926Z",
     "shell.execute_reply": "2025-08-28T09:29:03.470225Z",
     "shell.execute_reply.started": "2025-08-28T09:29:02.415495Z"
    },
    "trusted": true
   },
   "outputs": [],
   "source": [
    "data[\"SrcSent\"] = data[\"SrcSent\"].apply(lambda x: src_sent_tokenizer.tokenize(x))"
   ]
  },
  {
   "cell_type": "code",
   "execution_count": null,
   "metadata": {
    "execution": {
     "iopub.execute_input": "2025-08-28T09:29:04.361493Z",
     "iopub.status.busy": "2025-08-28T09:29:04.361191Z",
     "iopub.status.idle": "2025-08-28T09:29:04.371880Z",
     "shell.execute_reply": "2025-08-28T09:29:04.370907Z",
     "shell.execute_reply.started": "2025-08-28T09:29:04.361472Z"
    },
    "trusted": true
   },
   "outputs": [
    {
     "data": {
      "text/html": [
       "<div>\n",
       "<style scoped>\n",
       "    .dataframe tbody tr th:only-of-type {\n",
       "        vertical-align: middle;\n",
       "    }\n",
       "\n",
       "    .dataframe tbody tr th {\n",
       "        vertical-align: top;\n",
       "    }\n",
       "\n",
       "    .dataframe thead th {\n",
       "        text-align: right;\n",
       "    }\n",
       "</style>\n",
       "<table border=\"1\" class=\"dataframe\">\n",
       "  <thead>\n",
       "    <tr style=\"text-align: right;\">\n",
       "      <th></th>\n",
       "      <th>SrcSent</th>\n",
       "      <th>DstSent</th>\n",
       "    </tr>\n",
       "  </thead>\n",
       "  <tbody>\n",
       "    <tr>\n",
       "      <th>0</th>\n",
       "      <td>[▁Mu, i, riel, ▁is, ▁20, ▁now, .]</td>\n",
       "      <td>म्यूरियल अब बीस साल की हो गई है।</td>\n",
       "    </tr>\n",
       "    <tr>\n",
       "      <th>1</th>\n",
       "      <td>[▁Mu, i, riel, ▁is, ▁20, ▁now, .]</td>\n",
       "      <td>म्यूरियल अब बीस साल की है।</td>\n",
       "    </tr>\n",
       "    <tr>\n",
       "      <th>2</th>\n",
       "      <td>[▁Education, ▁in, ▁this, ▁world, ▁disappoint, ...</td>\n",
       "      <td>मैं इस दुनिया में शिक्षा पर बहुत निराश हूँ।</td>\n",
       "    </tr>\n",
       "    <tr>\n",
       "      <th>3</th>\n",
       "      <td>[▁That, ▁won, ', t, ▁happen, .]</td>\n",
       "      <td>वैसा नहीं होगा।</td>\n",
       "    </tr>\n",
       "    <tr>\n",
       "      <th>4</th>\n",
       "      <td>[▁I, ▁miss, ▁you, .]</td>\n",
       "      <td>मुझें तुम्हारी याद आ रही है।</td>\n",
       "    </tr>\n",
       "  </tbody>\n",
       "</table>\n",
       "</div>"
      ],
      "text/plain": [
       "                                             SrcSent  \\\n",
       "0                  [▁Mu, i, riel, ▁is, ▁20, ▁now, .]   \n",
       "1                  [▁Mu, i, riel, ▁is, ▁20, ▁now, .]   \n",
       "2  [▁Education, ▁in, ▁this, ▁world, ▁disappoint, ...   \n",
       "3                    [▁That, ▁won, ', t, ▁happen, .]   \n",
       "4                               [▁I, ▁miss, ▁you, .]   \n",
       "\n",
       "                                       DstSent  \n",
       "0             म्यूरियल अब बीस साल की हो गई है।  \n",
       "1                   म्यूरियल अब बीस साल की है।  \n",
       "2  मैं इस दुनिया में शिक्षा पर बहुत निराश हूँ।  \n",
       "3                              वैसा नहीं होगा।  \n",
       "4                 मुझें तुम्हारी याद आ रही है।  "
      ]
     },
     "execution_count": 9,
     "metadata": {},
     "output_type": "execute_result"
    }
   ],
   "source": [
    "data.head()"
   ]
  },
  {
   "cell_type": "code",
   "execution_count": null,
   "metadata": {
    "execution": {
     "iopub.execute_input": "2025-08-28T09:29:06.460970Z",
     "iopub.status.busy": "2025-08-28T09:29:06.460687Z",
     "iopub.status.idle": "2025-08-28T09:29:06.613468Z",
     "shell.execute_reply": "2025-08-28T09:29:06.612491Z",
     "shell.execute_reply.started": "2025-08-28T09:29:06.460949Z"
    },
    "trusted": true
   },
   "outputs": [],
   "source": [
    "data[\"DstSent\"] = data[\"DstSent\"].apply(lambda x: indic_tokenize.trivial_tokenize(x,lang=\"hi\"))"
   ]
  },
  {
   "cell_type": "code",
   "execution_count": null,
   "metadata": {
    "execution": {
     "iopub.execute_input": "2025-08-28T09:29:10.741011Z",
     "iopub.status.busy": "2025-08-28T09:29:10.740366Z",
     "iopub.status.idle": "2025-08-28T09:29:10.821253Z",
     "shell.execute_reply": "2025-08-28T09:29:10.820536Z",
     "shell.execute_reply.started": "2025-08-28T09:29:10.740982Z"
    },
    "trusted": true
   },
   "outputs": [],
   "source": [
    "data[\"SrcSent\"] = data[\"SrcSent\"].apply(src_sent_tokenizer.convert_tokens_to_ids)"
   ]
  },
  {
   "cell_type": "code",
   "execution_count": null,
   "metadata": {
    "execution": {
     "iopub.execute_input": "2025-08-28T09:29:16.332154Z",
     "iopub.status.busy": "2025-08-28T09:29:16.331802Z",
     "iopub.status.idle": "2025-08-28T09:29:16.365824Z",
     "shell.execute_reply": "2025-08-28T09:29:16.364914Z",
     "shell.execute_reply.started": "2025-08-28T09:29:16.332126Z"
    },
    "trusted": true
   },
   "outputs": [],
   "source": [
    "Vs = src_sent_tokenizer.get_vocab()"
   ]
  },
  {
   "cell_type": "code",
   "execution_count": null,
   "metadata": {
    "execution": {
     "iopub.execute_input": "2025-08-28T09:29:18.449478Z",
     "iopub.status.busy": "2025-08-28T09:29:18.449188Z",
     "iopub.status.idle": "2025-08-28T09:29:18.460078Z",
     "shell.execute_reply": "2025-08-28T09:29:18.459067Z",
     "shell.execute_reply.started": "2025-08-28T09:29:18.449459Z"
    },
    "trusted": true
   },
   "outputs": [
    {
     "data": {
      "text/html": [
       "<div>\n",
       "<style scoped>\n",
       "    .dataframe tbody tr th:only-of-type {\n",
       "        vertical-align: middle;\n",
       "    }\n",
       "\n",
       "    .dataframe tbody tr th {\n",
       "        vertical-align: top;\n",
       "    }\n",
       "\n",
       "    .dataframe thead th {\n",
       "        text-align: right;\n",
       "    }\n",
       "</style>\n",
       "<table border=\"1\" class=\"dataframe\">\n",
       "  <thead>\n",
       "    <tr style=\"text-align: right;\">\n",
       "      <th></th>\n",
       "      <th>SrcSent</th>\n",
       "      <th>DstSent</th>\n",
       "    </tr>\n",
       "  </thead>\n",
       "  <tbody>\n",
       "    <tr>\n",
       "      <th>0</th>\n",
       "      <td>[4159, 23, 14018, 19, 460, 230, 5]</td>\n",
       "      <td>[म्यूरियल, अब, बीस, साल, की, हो, गई, है, ।]</td>\n",
       "    </tr>\n",
       "    <tr>\n",
       "      <th>1</th>\n",
       "      <td>[4159, 23, 14018, 19, 460, 230, 5]</td>\n",
       "      <td>[म्यूरियल, अब, बीस, साल, की, है, ।]</td>\n",
       "    </tr>\n",
       "    <tr>\n",
       "      <th>2</th>\n",
       "      <td>[2855, 16, 48, 296, 26963, 7, 140, 5]</td>\n",
       "      <td>[मैं, इस, दुनिया, में, शिक्षा, पर, बहुत, निराश...</td>\n",
       "    </tr>\n",
       "    <tr>\n",
       "      <th>3</th>\n",
       "      <td>[466, 751, 31, 17, 1837, 5]</td>\n",
       "      <td>[वैसा, नहीं, होगा, ।]</td>\n",
       "    </tr>\n",
       "    <tr>\n",
       "      <th>4</th>\n",
       "      <td>[27, 3041, 25, 5]</td>\n",
       "      <td>[मुझें, तुम्हारी, याद, आ, रही, है, ।]</td>\n",
       "    </tr>\n",
       "  </tbody>\n",
       "</table>\n",
       "</div>"
      ],
      "text/plain": [
       "                                 SrcSent  \\\n",
       "0     [4159, 23, 14018, 19, 460, 230, 5]   \n",
       "1     [4159, 23, 14018, 19, 460, 230, 5]   \n",
       "2  [2855, 16, 48, 296, 26963, 7, 140, 5]   \n",
       "3            [466, 751, 31, 17, 1837, 5]   \n",
       "4                      [27, 3041, 25, 5]   \n",
       "\n",
       "                                             DstSent  \n",
       "0        [म्यूरियल, अब, बीस, साल, की, हो, गई, है, ।]  \n",
       "1                [म्यूरियल, अब, बीस, साल, की, है, ।]  \n",
       "2  [मैं, इस, दुनिया, में, शिक्षा, पर, बहुत, निराश...  \n",
       "3                              [वैसा, नहीं, होगा, ।]  \n",
       "4              [मुझें, तुम्हारी, याद, आ, रही, है, ।]  "
      ]
     },
     "execution_count": 13,
     "metadata": {},
     "output_type": "execute_result"
    }
   ],
   "source": [
    "data.head()"
   ]
  },
  {
   "cell_type": "code",
   "execution_count": null,
   "metadata": {
    "execution": {
     "iopub.execute_input": "2025-08-28T09:29:20.346838Z",
     "iopub.status.busy": "2025-08-28T09:29:20.346525Z",
     "iopub.status.idle": "2025-08-28T09:29:20.362151Z",
     "shell.execute_reply": "2025-08-28T09:29:20.361106Z",
     "shell.execute_reply.started": "2025-08-28T09:29:20.346813Z"
    },
    "trusted": true
   },
   "outputs": [],
   "source": [
    "hindi_vocab = set()\n",
    "\n",
    "for tokenized_hindi_sent in data[\"DstSent\"]:\n",
    "    hindi_vocab.update(tokenized_hindi_sent)"
   ]
  },
  {
   "cell_type": "code",
   "execution_count": null,
   "metadata": {
    "execution": {
     "iopub.execute_input": "2025-08-28T09:29:21.832391Z",
     "iopub.status.busy": "2025-08-28T09:29:21.832086Z",
     "iopub.status.idle": "2025-08-28T09:29:21.840346Z",
     "shell.execute_reply": "2025-08-28T09:29:21.839362Z",
     "shell.execute_reply.started": "2025-08-28T09:29:21.832370Z"
    },
    "trusted": true
   },
   "outputs": [],
   "source": [
    "Vd = dict()\n",
    "for idx, token in enumerate(hindi_vocab):\n",
    "    Vd[token] = idx + 3\n",
    "Vd[\"<PAD>\"] = 0\n",
    "Vd[\"<SOS>\"] = 1\n",
    "Vd[\"<EOS>\"] = 2"
   ]
  },
  {
   "cell_type": "code",
   "execution_count": null,
   "metadata": {
    "execution": {
     "iopub.execute_input": "2025-08-28T09:29:23.424151Z",
     "iopub.status.busy": "2025-08-28T09:29:23.423770Z",
     "iopub.status.idle": "2025-08-28T09:29:23.429162Z",
     "shell.execute_reply": "2025-08-28T09:29:23.428152Z",
     "shell.execute_reply.started": "2025-08-28T09:29:23.424125Z"
    },
    "trusted": true
   },
   "outputs": [],
   "source": [
    "def convert_hindi_tokens_to_ids(hindi_sent):\n",
    "    return [Vd[token] for token in hindi_sent]"
   ]
  },
  {
   "cell_type": "code",
   "execution_count": null,
   "metadata": {
    "execution": {
     "iopub.execute_input": "2025-08-28T09:29:25.295615Z",
     "iopub.status.busy": "2025-08-28T09:29:25.295292Z",
     "iopub.status.idle": "2025-08-28T09:29:25.325280Z",
     "shell.execute_reply": "2025-08-28T09:29:25.324178Z",
     "shell.execute_reply.started": "2025-08-28T09:29:25.295592Z"
    },
    "trusted": true
   },
   "outputs": [],
   "source": [
    "data[\"DstSent\"] = data[\"DstSent\"].apply(lambda x: convert_hindi_tokens_to_ids(x))"
   ]
  },
  {
   "cell_type": "code",
   "execution_count": null,
   "metadata": {
    "execution": {
     "iopub.execute_input": "2025-08-28T09:29:27.549358Z",
     "iopub.status.busy": "2025-08-28T09:29:27.549030Z",
     "iopub.status.idle": "2025-08-28T09:29:27.560102Z",
     "shell.execute_reply": "2025-08-28T09:29:27.559213Z",
     "shell.execute_reply.started": "2025-08-28T09:29:27.549337Z"
    },
    "trusted": true
   },
   "outputs": [
    {
     "data": {
      "text/html": [
       "<div>\n",
       "<style scoped>\n",
       "    .dataframe tbody tr th:only-of-type {\n",
       "        vertical-align: middle;\n",
       "    }\n",
       "\n",
       "    .dataframe tbody tr th {\n",
       "        vertical-align: top;\n",
       "    }\n",
       "\n",
       "    .dataframe thead th {\n",
       "        text-align: right;\n",
       "    }\n",
       "</style>\n",
       "<table border=\"1\" class=\"dataframe\">\n",
       "  <thead>\n",
       "    <tr style=\"text-align: right;\">\n",
       "      <th></th>\n",
       "      <th>SrcSent</th>\n",
       "      <th>DstSent</th>\n",
       "    </tr>\n",
       "  </thead>\n",
       "  <tbody>\n",
       "    <tr>\n",
       "      <th>0</th>\n",
       "      <td>[4159, 23, 14018, 19, 460, 230, 5]</td>\n",
       "      <td>[2515, 263, 3746, 5583, 2197, 3885, 1170, 4318...</td>\n",
       "    </tr>\n",
       "    <tr>\n",
       "      <th>1</th>\n",
       "      <td>[4159, 23, 14018, 19, 460, 230, 5]</td>\n",
       "      <td>[2515, 263, 3746, 5583, 2197, 4318, 5362]</td>\n",
       "    </tr>\n",
       "    <tr>\n",
       "      <th>2</th>\n",
       "      <td>[2855, 16, 48, 296, 26963, 7, 140, 5]</td>\n",
       "      <td>[6747, 3550, 5424, 1866, 338, 6653, 672, 169, ...</td>\n",
       "    </tr>\n",
       "    <tr>\n",
       "      <th>3</th>\n",
       "      <td>[466, 751, 31, 17, 1837, 5]</td>\n",
       "      <td>[2101, 3713, 576, 5362]</td>\n",
       "    </tr>\n",
       "    <tr>\n",
       "      <th>4</th>\n",
       "      <td>[27, 3041, 25, 5]</td>\n",
       "      <td>[4175, 1968, 4400, 5825, 2702, 4318, 5362]</td>\n",
       "    </tr>\n",
       "  </tbody>\n",
       "</table>\n",
       "</div>"
      ],
      "text/plain": [
       "                                 SrcSent  \\\n",
       "0     [4159, 23, 14018, 19, 460, 230, 5]   \n",
       "1     [4159, 23, 14018, 19, 460, 230, 5]   \n",
       "2  [2855, 16, 48, 296, 26963, 7, 140, 5]   \n",
       "3            [466, 751, 31, 17, 1837, 5]   \n",
       "4                      [27, 3041, 25, 5]   \n",
       "\n",
       "                                             DstSent  \n",
       "0  [2515, 263, 3746, 5583, 2197, 3885, 1170, 4318...  \n",
       "1          [2515, 263, 3746, 5583, 2197, 4318, 5362]  \n",
       "2  [6747, 3550, 5424, 1866, 338, 6653, 672, 169, ...  \n",
       "3                            [2101, 3713, 576, 5362]  \n",
       "4         [4175, 1968, 4400, 5825, 2702, 4318, 5362]  "
      ]
     },
     "execution_count": 18,
     "metadata": {},
     "output_type": "execute_result"
    }
   ],
   "source": [
    "data.head()"
   ]
  },
  {
   "cell_type": "code",
   "execution_count": null,
   "metadata": {
    "execution": {
     "iopub.execute_input": "2025-08-28T09:29:30.249774Z",
     "iopub.status.busy": "2025-08-28T09:29:30.249491Z",
     "iopub.status.idle": "2025-08-28T09:29:30.254551Z",
     "shell.execute_reply": "2025-08-28T09:29:30.253554Z",
     "shell.execute_reply.started": "2025-08-28T09:29:30.249753Z"
    },
    "trusted": true
   },
   "outputs": [],
   "source": [
    "def insert_sos_token_id(hindi_sent_token_ids):\n",
    "    return [1] + hindi_sent_token_ids"
   ]
  },
  {
   "cell_type": "code",
   "execution_count": null,
   "metadata": {
    "execution": {
     "iopub.execute_input": "2025-08-28T09:29:35.398943Z",
     "iopub.status.busy": "2025-08-28T09:29:35.398235Z",
     "iopub.status.idle": "2025-08-28T09:29:35.412138Z",
     "shell.execute_reply": "2025-08-28T09:29:35.411206Z",
     "shell.execute_reply.started": "2025-08-28T09:29:35.398919Z"
    },
    "trusted": true
   },
   "outputs": [],
   "source": [
    "data[\"DstSentInput\"] = data[\"DstSent\"].apply(lambda x: insert_sos_token_id(x))"
   ]
  },
  {
   "cell_type": "code",
   "execution_count": null,
   "metadata": {
    "execution": {
     "iopub.execute_input": "2025-08-28T09:29:37.598144Z",
     "iopub.status.busy": "2025-08-28T09:29:37.597464Z",
     "iopub.status.idle": "2025-08-28T09:29:37.602085Z",
     "shell.execute_reply": "2025-08-28T09:29:37.601194Z",
     "shell.execute_reply.started": "2025-08-28T09:29:37.598110Z"
    },
    "trusted": true
   },
   "outputs": [],
   "source": [
    "def insert_eos_token_id(hindi_sent_token_ids):\n",
    "    return hindi_sent_token_ids + [2]"
   ]
  },
  {
   "cell_type": "code",
   "execution_count": null,
   "metadata": {
    "execution": {
     "iopub.execute_input": "2025-08-28T09:29:45.038529Z",
     "iopub.status.busy": "2025-08-28T09:29:45.038208Z",
     "iopub.status.idle": "2025-08-28T09:29:45.053759Z",
     "shell.execute_reply": "2025-08-28T09:29:45.052818Z",
     "shell.execute_reply.started": "2025-08-28T09:29:45.038507Z"
    },
    "trusted": true
   },
   "outputs": [],
   "source": [
    "data[\"DstSentLabel\"] = data[\"DstSent\"].apply(lambda x: insert_eos_token_id(x))"
   ]
  },
  {
   "cell_type": "code",
   "execution_count": null,
   "metadata": {
    "execution": {
     "iopub.execute_input": "2025-08-28T09:29:51.491359Z",
     "iopub.status.busy": "2025-08-28T09:29:51.490980Z",
     "iopub.status.idle": "2025-08-28T09:29:51.506495Z",
     "shell.execute_reply": "2025-08-28T09:29:51.505642Z",
     "shell.execute_reply.started": "2025-08-28T09:29:51.491333Z"
    },
    "trusted": true
   },
   "outputs": [
    {
     "data": {
      "text/html": [
       "<div>\n",
       "<style scoped>\n",
       "    .dataframe tbody tr th:only-of-type {\n",
       "        vertical-align: middle;\n",
       "    }\n",
       "\n",
       "    .dataframe tbody tr th {\n",
       "        vertical-align: top;\n",
       "    }\n",
       "\n",
       "    .dataframe thead th {\n",
       "        text-align: right;\n",
       "    }\n",
       "</style>\n",
       "<table border=\"1\" class=\"dataframe\">\n",
       "  <thead>\n",
       "    <tr style=\"text-align: right;\">\n",
       "      <th></th>\n",
       "      <th>SrcSent</th>\n",
       "      <th>DstSent</th>\n",
       "      <th>DstSentInput</th>\n",
       "      <th>DstSentLabel</th>\n",
       "    </tr>\n",
       "  </thead>\n",
       "  <tbody>\n",
       "    <tr>\n",
       "      <th>0</th>\n",
       "      <td>[4159, 23, 14018, 19, 460, 230, 5]</td>\n",
       "      <td>[2515, 263, 3746, 5583, 2197, 3885, 1170, 4318...</td>\n",
       "      <td>[1, 2515, 263, 3746, 5583, 2197, 3885, 1170, 4...</td>\n",
       "      <td>[2515, 263, 3746, 5583, 2197, 3885, 1170, 4318...</td>\n",
       "    </tr>\n",
       "    <tr>\n",
       "      <th>1</th>\n",
       "      <td>[4159, 23, 14018, 19, 460, 230, 5]</td>\n",
       "      <td>[2515, 263, 3746, 5583, 2197, 4318, 5362]</td>\n",
       "      <td>[1, 2515, 263, 3746, 5583, 2197, 4318, 5362]</td>\n",
       "      <td>[2515, 263, 3746, 5583, 2197, 4318, 5362, 2]</td>\n",
       "    </tr>\n",
       "    <tr>\n",
       "      <th>2</th>\n",
       "      <td>[2855, 16, 48, 296, 26963, 7, 140, 5]</td>\n",
       "      <td>[6747, 3550, 5424, 1866, 338, 6653, 672, 169, ...</td>\n",
       "      <td>[1, 6747, 3550, 5424, 1866, 338, 6653, 672, 16...</td>\n",
       "      <td>[6747, 3550, 5424, 1866, 338, 6653, 672, 169, ...</td>\n",
       "    </tr>\n",
       "    <tr>\n",
       "      <th>3</th>\n",
       "      <td>[466, 751, 31, 17, 1837, 5]</td>\n",
       "      <td>[2101, 3713, 576, 5362]</td>\n",
       "      <td>[1, 2101, 3713, 576, 5362]</td>\n",
       "      <td>[2101, 3713, 576, 5362, 2]</td>\n",
       "    </tr>\n",
       "    <tr>\n",
       "      <th>4</th>\n",
       "      <td>[27, 3041, 25, 5]</td>\n",
       "      <td>[4175, 1968, 4400, 5825, 2702, 4318, 5362]</td>\n",
       "      <td>[1, 4175, 1968, 4400, 5825, 2702, 4318, 5362]</td>\n",
       "      <td>[4175, 1968, 4400, 5825, 2702, 4318, 5362, 2]</td>\n",
       "    </tr>\n",
       "  </tbody>\n",
       "</table>\n",
       "</div>"
      ],
      "text/plain": [
       "                                 SrcSent  \\\n",
       "0     [4159, 23, 14018, 19, 460, 230, 5]   \n",
       "1     [4159, 23, 14018, 19, 460, 230, 5]   \n",
       "2  [2855, 16, 48, 296, 26963, 7, 140, 5]   \n",
       "3            [466, 751, 31, 17, 1837, 5]   \n",
       "4                      [27, 3041, 25, 5]   \n",
       "\n",
       "                                             DstSent  \\\n",
       "0  [2515, 263, 3746, 5583, 2197, 3885, 1170, 4318...   \n",
       "1          [2515, 263, 3746, 5583, 2197, 4318, 5362]   \n",
       "2  [6747, 3550, 5424, 1866, 338, 6653, 672, 169, ...   \n",
       "3                            [2101, 3713, 576, 5362]   \n",
       "4         [4175, 1968, 4400, 5825, 2702, 4318, 5362]   \n",
       "\n",
       "                                        DstSentInput  \\\n",
       "0  [1, 2515, 263, 3746, 5583, 2197, 3885, 1170, 4...   \n",
       "1       [1, 2515, 263, 3746, 5583, 2197, 4318, 5362]   \n",
       "2  [1, 6747, 3550, 5424, 1866, 338, 6653, 672, 16...   \n",
       "3                         [1, 2101, 3713, 576, 5362]   \n",
       "4      [1, 4175, 1968, 4400, 5825, 2702, 4318, 5362]   \n",
       "\n",
       "                                        DstSentLabel  \n",
       "0  [2515, 263, 3746, 5583, 2197, 3885, 1170, 4318...  \n",
       "1       [2515, 263, 3746, 5583, 2197, 4318, 5362, 2]  \n",
       "2  [6747, 3550, 5424, 1866, 338, 6653, 672, 169, ...  \n",
       "3                         [2101, 3713, 576, 5362, 2]  \n",
       "4      [4175, 1968, 4400, 5825, 2702, 4318, 5362, 2]  "
      ]
     },
     "execution_count": 23,
     "metadata": {},
     "output_type": "execute_result"
    }
   ],
   "source": [
    "data.head()"
   ]
  },
  {
   "cell_type": "code",
   "execution_count": null,
   "metadata": {
    "execution": {
     "iopub.execute_input": "2025-08-28T09:30:06.292931Z",
     "iopub.status.busy": "2025-08-28T09:30:06.292606Z",
     "iopub.status.idle": "2025-08-28T09:30:06.300152Z",
     "shell.execute_reply": "2025-08-28T09:30:06.299274Z",
     "shell.execute_reply.started": "2025-08-28T09:30:06.292907Z"
    },
    "trusted": true
   },
   "outputs": [],
   "source": [
    "data.drop(labels=[data.columns[1]],axis=1,inplace=True)"
   ]
  },
  {
   "cell_type": "code",
   "execution_count": null,
   "metadata": {
    "execution": {
     "iopub.execute_input": "2025-08-28T09:30:16.766650Z",
     "iopub.status.busy": "2025-08-28T09:30:16.766342Z",
     "iopub.status.idle": "2025-08-28T09:30:16.774750Z",
     "shell.execute_reply": "2025-08-28T09:30:16.773994Z",
     "shell.execute_reply.started": "2025-08-28T09:30:16.766627Z"
    },
    "trusted": true
   },
   "outputs": [],
   "source": [
    "X = list(data[\"SrcSent\"])\n",
    "Y_input = list(data[\"DstSentInput\"])\n",
    "Y_label = list(data[\"DstSentLabel\"])"
   ]
  },
  {
   "cell_type": "code",
   "execution_count": null,
   "metadata": {
    "execution": {
     "iopub.execute_input": "2025-08-28T09:36:52.455932Z",
     "iopub.status.busy": "2025-08-28T09:36:52.455563Z",
     "iopub.status.idle": "2025-08-28T09:36:53.004581Z",
     "shell.execute_reply": "2025-08-28T09:36:53.003268Z",
     "shell.execute_reply.started": "2025-08-28T09:36:52.455907Z"
    },
    "trusted": true
   },
   "outputs": [],
   "source": [
    "X_tensor = [torch.tensor(tokenized_eng_sent_ids) for tokenized_eng_sent_ids in X]\n",
    "Y_input_tensor = [torch.tensor(tokenized_hin_sent_ids) for tokenized_hin_sent_ids in Y_input]\n",
    "Y_label_tensor = [torch.tensor(tokenized_hin_sent_ids) for tokenized_hin_sent_ids in Y_label]"
   ]
  },
  {
   "cell_type": "code",
   "execution_count": null,
   "metadata": {
    "execution": {
     "iopub.execute_input": "2025-08-28T09:41:57.672648Z",
     "iopub.status.busy": "2025-08-28T09:41:57.671801Z",
     "iopub.status.idle": "2025-08-28T09:41:57.975269Z",
     "shell.execute_reply": "2025-08-28T09:41:57.974567Z",
     "shell.execute_reply.started": "2025-08-28T09:41:57.672618Z"
    },
    "trusted": true
   },
   "outputs": [],
   "source": [
    "X_padded = torch.nn.utils.rnn.pad_sequence(X_tensor,batch_first=True)\n",
    "Y_padded_input = torch.nn.utils.rnn.pad_sequence(Y_input_tensor,batch_first=True)\n",
    "Y_padded_label = torch.nn.utils.rnn.pad_sequence(Y_label_tensor,batch_first=True)"
   ]
  },
  {
   "cell_type": "code",
   "execution_count": null,
   "metadata": {
    "execution": {
     "iopub.execute_input": "2025-08-28T09:42:51.645355Z",
     "iopub.status.busy": "2025-08-28T09:42:51.645016Z",
     "iopub.status.idle": "2025-08-28T09:42:51.649855Z",
     "shell.execute_reply": "2025-08-28T09:42:51.648879Z",
     "shell.execute_reply.started": "2025-08-28T09:42:51.645334Z"
    },
    "trusted": true
   },
   "outputs": [],
   "source": [
    "Ns = X_padded.shape[1]\n",
    "Nd = Y_padded_label.shape[1]"
   ]
  },
  {
   "cell_type": "code",
   "execution_count": null,
   "metadata": {
    "trusted": true
   },
   "outputs": [],
   "source": [
    "class Encoder(torch.nn.module):\n",
    "\n",
    "    def __init__(self,src_lang_vocab_size,word_embedding_dim):\n",
    "        super(Encoder,self).__init__()\n",
    "        self.first_embedding_layer = torch.nn.embedding(num_embeddings=src_lang_vocab_size,\n",
    "                                                       embedding_dim=word_embedding_dim)\n",
    "        self.second_lstm_layer = torch.nn.LSTM(input_size=word_embedding_dim,\n",
    "                                               hidden_size=word_embedding_dim,\n",
    "                                              batch_first=True)"
   ]
  },
  {
   "cell_type": "code",
   "execution_count": null,
   "metadata": {
    "trusted": true
   },
   "outputs": [],
   "source": []
  }
 ],
 "metadata": {
  "kernelspec": {
   "display_name": "Python 3",
   "language": "python",
   "name": "python3"
  },
  "language_info": {
   "codemirror_mode": {
    "name": "ipython",
    "version": 3
   },
   "file_extension": ".py",
   "mimetype": "text/x-python",
   "name": "python",
   "nbconvert_exporter": "python",
   "pygments_lexer": "ipython3",
   "version": "3.12.5"
  }
 },
 "nbformat": 4,
 "nbformat_minor": 4
}
